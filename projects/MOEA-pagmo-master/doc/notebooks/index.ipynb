{
 "metadata": {
  "name": "",
  "signature": "sha256:201c1d40fa66cba20622c6bb16c650925d0020bbed0fa162bb6aed9399e20e57"
 },
 "nbformat": 3,
 "nbformat_minor": 0,
 "worksheets": [
  {
   "cells": [
    {
     "cell_type": "heading",
     "level": 1,
     "metadata": {},
     "source": [
      "The PyGMO Notebook"
     ]
    },
    {
     "cell_type": "markdown",
     "metadata": {},
     "source": [
      "This notebook is a collection of interactive PyGMO tutorials and examples, going from the very basics, up to the more complex usecases."
     ]
    },
    {
     "cell_type": "heading",
     "level": 2,
     "metadata": {},
     "source": [
      "Content"
     ]
    },
    {
     "cell_type": "markdown",
     "metadata": {},
     "source": [
      "* [Tutorials](tutorials/index.ipynb) - A collection of basic PaGMO tutorials\n",
      "* [Examples](examples/index.ipynb) - More advanced and in-depth examples and features"
     ]
    }
   ],
   "metadata": {}
  }
 ]
}