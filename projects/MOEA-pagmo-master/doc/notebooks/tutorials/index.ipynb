{
 "metadata": {
  "name": "",
  "signature": "sha256:4e3c0951d9d81090c3c1c2520fd6e4170f76fedd5b98af109335e7e59a85e1d4"
 },
 "nbformat": 3,
 "nbformat_minor": 0,
 "worksheets": [
  {
   "cells": [
    {
     "cell_type": "heading",
     "level": 1,
     "metadata": {},
     "source": [
      "PyGMO Tutorials"
     ]
    },
    {
     "cell_type": "markdown",
     "metadata": {},
     "source": [
      "In this section you can get yourself acquainted with the very basics of using PyGMO."
     ]
    },
    {
     "cell_type": "heading",
     "level": 1,
     "metadata": {},
     "source": [
      "Content"
     ]
    },
    {
     "cell_type": "markdown",
     "metadata": {},
     "source": [
      "* [Adding new problems and algorithms to PyGMO](adding_new_problems_and_algorithms_to_pygmo.ipynb)\n",
      "* [Meta problems](meta_problems.ipynb)\n",
      "* [Multi objective optimization](multi_objective_optimization.ipynb)"
     ]
    }
   ],
   "metadata": {}
  }
 ]
}